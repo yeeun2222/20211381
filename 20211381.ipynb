{
 "cells": [
  {
   "cell_type": "markdown",
   "id": "5c3e9c2e",
   "metadata": {},
   "source": [
    "# 1. LeetCode 225. Implement Stack using Queues"
   ]
  },
  {
   "cell_type": "markdown",
   "id": "f694166f",
   "metadata": {},
   "source": [
    "## 풀이\n",
    "- 큐는 선입선출 구조이므로, 새로운 원소를 추가할 때 기존 원소를 뒤로 보내는 방식으로 구현한다\n",
    "- push 시 큐에 요소를 추가한 후, 큐의 앞부분을 순차적으로 꺼내 다시 뒤로 넣는다"
   ]
  },
  {
   "cell_type": "code",
   "execution_count": 14,
   "id": "03fd7b8a",
   "metadata": {},
   "outputs": [],
   "source": [
    "##코드\n",
    "from collections import deque\n",
    "\n",
    "class MyStack:\n",
    "    def __init__(self):\n",
    "        self.q = deque()\n",
    "\n",
    "    def push(self, x):\n",
    "        self.q.append(x)\n",
    "        for _ in range(len(self.q) - 1):\n",
    "            self.q.append(self.q.popleft())\n",
    "\n",
    "    def pop(self):\n",
    "        return self.q.popleft()\n",
    "\n",
    "    def top(self):\n",
    "        return self.q[0]\n",
    "\n",
    "    def empty(self):\n",
    "        return not self.q\n"
   ]
  },
  {
   "cell_type": "markdown",
   "id": "88352c2a",
   "metadata": {},
   "source": [
    "# 2. LeetCode 232. Implement Queue using Stacks"
   ]
  },
  {
   "cell_type": "markdown",
   "id": "69b50f29",
   "metadata": {},
   "source": [
    "## 풀이\n",
    "- 들어오는 요소는 `stack_in`에 저장한다.\n",
    "- 나갈 때는 `stack_out`에서 꺼낸다.\n",
    "- 만약 `stack_out`이 비어 있으면 `stack_in`에서 모든 요소를 꺼내서 역순으로 넣어준다."
   ]
  },
  {
   "cell_type": "code",
   "execution_count": 15,
   "id": "3bc7b1ac",
   "metadata": {},
   "outputs": [],
   "source": [
    "class MyQueue:\n",
    "    def __init__(self):\n",
    "        self.stack_in = []\n",
    "        self.stack_out = []\n",
    "\n",
    "    def push(self, x):\n",
    "        self.stack_in.append(x)\n",
    "\n",
    "    def pop(self):\n",
    "        self.peek()\n",
    "        return self.stack_out.pop()\n",
    "\n",
    "    def peek(self):\n",
    "        if not self.stack_out:\n",
    "            while self.stack_in:\n",
    "                self.stack_out.append(self.stack_in.pop())\n",
    "        return self.stack_out[-1]\n",
    "\n",
    "    def empty(self):\n",
    "        return not self.stack_in and not self.stack_out\n"
   ]
  },
  {
   "cell_type": "markdown",
   "id": "373d07d3",
   "metadata": {},
   "source": [
    "# 3. 교재 큐 연습문제"
   ]
  },
  {
   "cell_type": "markdown",
   "id": "857be8a4",
   "metadata": {},
   "source": [
    "## ✔️ 문제 1 \n",
    "\n"
   ]
  },
  {
   "cell_type": "code",
   "execution_count": 16,
   "id": "8f9ef556",
   "metadata": {},
   "outputs": [],
   "source": [
    "class ListQueue:\n",
    "    def __init__(self):\n",
    "        self.__queue = []\n",
    "\n",
    "    def enqueue(self, x):\n",
    "        self.__queue.insert(0, x)\n",
    "\n",
    "    def dequeue(self):\n",
    "        return self.__queue.pop()\n",
    "\n",
    "    def front(self):\n",
    "        return self.__queue[-1]\n",
    "\n",
    "    def isEmpty(self):\n",
    "        return len(self.__queue) == 0\n",
    "\n",
    "    def dequeueAll(self):\n",
    "        self.__queue.clear()"
   ]
  },
  {
   "cell_type": "markdown",
   "id": "453aff62",
   "metadata": {},
   "source": [
    "- 리스트의 앞을 tail로 간주하고, 리스트의 끝을 front로 간주하도록 구현을 변경"
   ]
  },
  {
   "cell_type": "markdown",
   "id": "5186af9d",
   "metadata": {},
   "source": [
    "## ✔️ 문제 2 \n",
    "\n",
    "\n"
   ]
  },
  {
   "cell_type": "code",
   "execution_count": 17,
   "id": "e0c6cfe8",
   "metadata": {},
   "outputs": [],
   "source": [
    "def isPalindrome(s):\n",
    "    from collections import deque\n",
    "    q = deque()\n",
    "    for c in s:\n",
    "        q.append(c)\n",
    "    while len(q) > 1:\n",
    "        if q.popleft() != q.pop():\n",
    "            return False\n",
    "    return True"
   ]
  },
  {
   "cell_type": "markdown",
   "id": "1e770018",
   "metadata": {},
   "source": [
    "## ✔️ 문제 3"
   ]
  },
  {
   "cell_type": "code",
   "execution_count": 18,
   "id": "e3522374",
   "metadata": {},
   "outputs": [],
   "source": [
    "def copyLinkedQueue(q):\n",
    "    new_q = LinkedQueue()\n",
    "    temp = []\n",
    "    while not q.isEmpty():\n",
    "        val = q.dequeue()\n",
    "        new_q.enqueue(val)\n",
    "        temp.append(val)\n",
    "    for item in temp:\n",
    "        q.enqueue(item)\n",
    "    return new_q\n"
   ]
  },
  {
   "cell_type": "markdown",
   "id": "b0dc50b9",
   "metadata": {},
   "source": [
    "## ✔️ 문제 4"
   ]
  },
  {
   "cell_type": "code",
   "execution_count": 19,
   "id": "a9969f94",
   "metadata": {},
   "outputs": [],
   "source": [
    "class StackWithTwoQueues:\n",
    "    def __init__(self):\n",
    "        self.q1 = deque()\n",
    "        self.q2 = deque()\n",
    "\n",
    "    def push(self, x):\n",
    "        self.q1.append(x)\n",
    "\n",
    "    def pop(self):\n",
    "        while len(self.q1) > 1:\n",
    "            self.q2.append(self.q1.popleft())\n",
    "        val = self.q1.popleft()\n",
    "        self.q1, self.q2 = self.q2, self.q1\n",
    "        return val\n"
   ]
  },
  {
   "cell_type": "markdown",
   "id": "88eb475e",
   "metadata": {},
   "source": [
    "## ✔️ 문제 5"
   ]
  },
  {
   "cell_type": "code",
   "execution_count": 20,
   "id": "03fdaf1b",
   "metadata": {},
   "outputs": [],
   "source": [
    "class QueueWithTwoStacks:\n",
    "    def __init__(self):\n",
    "        self.inbox = []\n",
    "        self.outbox = []\n",
    "\n",
    "    def enqueue(self, x):\n",
    "        self.inbox.append(x)\n",
    "\n",
    "    def dequeue(self):\n",
    "        if not self.outbox:\n",
    "            while self.inbox:\n",
    "                self.outbox.append(self.inbox.pop())\n",
    "        return self.outbox.pop()\n"
   ]
  },
  {
   "cell_type": "markdown",
   "id": "964d6000",
   "metadata": {},
   "source": [
    "## ✔️ 문제 6"
   ]
  },
  {
   "cell_type": "markdown",
   "id": "7a0e4797",
   "metadata": {},
   "source": [
    "- 가장 효율적으로 구현된 큐에서는 `enqueue()`와 `dequeue()` 둘 다 O(1) 시간이 소요됩니다.\n",
    "- Deque 자료구조를 활용하면 양쪽에서 O(1) 연산이 가능"
   ]
  },
  {
   "cell_type": "markdown",
   "id": "78b5c3a5",
   "metadata": {},
   "source": [
    "## ✔️ 문제 7"
   ]
  },
  {
   "cell_type": "markdown",
   "id": "af79869b",
   "metadata": {},
   "source": [
    "- 연결 리스트(LinkedListBasic)를 사용하면:\n",
    "  - `enqueue()` : O(1)\n",
    "  - `dequeue()` : O(1)\n",
    "  "
   ]
  },
  {
   "cell_type": "markdown",
   "id": "02f17573",
   "metadata": {},
   "source": [
    "## ✔️ 문제 8"
   ]
  },
  {
   "cell_type": "code",
   "execution_count": 21,
   "id": "5a73a826",
   "metadata": {},
   "outputs": [],
   "source": [
    "from collections import deque\n",
    "\n",
    "class ListDeque:\n",
    "    def __init__(self):\n",
    "        self.__queue = deque()\n",
    "\n",
    "    def enqueue(self, x):\n",
    "        self.__queue.append(x)\n",
    "\n",
    "    def dequeue(self):\n",
    "        if self.isEmpty():\n",
    "            return None\n",
    "        return self.__queue.popleft()\n",
    "\n",
    "    def front(self):\n",
    "        return None if self.isEmpty() else self.__queue[0]\n",
    "\n",
    "    def isEmpty(self):\n",
    "        return len(self.__queue) == 0\n",
    "\n",
    "    def dequeueAll(self):\n",
    "        self.__queue.clear()\n",
    "\n",
    "    def printQueue(self):\n",
    "        print(\"Queue from front:\", end=\" \")\n",
    "        for item in self.__queue:\n",
    "            print(item, end=\" \")\n",
    "        print()"
   ]
  }
 ],
 "metadata": {
  "kernelspec": {
   "display_name": "Python 3",
   "language": "python",
   "name": "python3"
  },
  "language_info": {
   "codemirror_mode": {
    "name": "ipython",
    "version": 3
   },
   "file_extension": ".py",
   "mimetype": "text/x-python",
   "name": "python",
   "nbconvert_exporter": "python",
   "pygments_lexer": "ipython3",
   "version": "3.9.12"
  }
 },
 "nbformat": 4,
 "nbformat_minor": 5
}
